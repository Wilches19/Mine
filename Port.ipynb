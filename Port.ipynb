{
 "cells": [
  {
   "cell_type": "code",
   "execution_count": 1,
   "id": "06faccaa",
   "metadata": {},
   "outputs": [],
   "source": [
    "import pandas as pd\n",
    "import yfinance as yf"
   ]
  },
  {
   "cell_type": "code",
   "execution_count": null,
   "id": "f3b4d875",
   "metadata": {},
   "outputs": [],
   "source": []
  },
  {
   "cell_type": "code",
   "execution_count": 2,
   "id": "957574d7",
   "metadata": {},
   "outputs": [
    {
     "name": "stdout",
     "output_type": "stream",
     "text": [
      "{'phone': '1-800-474-2737', 'longBusinessSummary': 'The fund generally invests at least 80% of its assets in the component securities of its underlying index and in investments that have economic characteristics that are substantially identical to the component securities of its underlying index (i.e., depositary receipts representing securities of the underlying index) and may invest up to 20% of its assets in certain futures, options and swap contracts, cash and cash equivalents.', 'maxAge': 86400, 'priceHint': 2, 'previousClose': 191.94, 'open': 192.47, 'dayLow': 191.02, 'dayHigh': 193.2541, 'regularMarketPreviousClose': 191.94, 'regularMarketOpen': 192.47, 'regularMarketDayLow': 191.02, 'regularMarketDayHigh': 193.2541, 'trailingPE': 12.318322, 'volume': 4121560, 'regularMarketVolume': 4121560, 'averageVolume': 42339263, 'averageVolume10days': 43723590, 'averageDailyVolume10Day': 43723590, 'bid': 191.06, 'ask': 191.35, 'bidSize': 1100, 'askSize': 800, 'yield': 0.0135, 'totalAssets': 67418071040, 'fiftyTwoWeekLow': 161.67, 'fiftyTwoWeekHigh': 205.49, 'fiftyDayAverage': 192.5196, 'twoHundredDayAverage': 183.58055, 'trailingAnnualDividendRate': 2.017, 'trailingAnnualDividendYield': 0.010508492, 'navPrice': 194.48784, 'currency': 'USD', 'category': 'Small Blend', 'ytdReturn': -0.0313886, 'beta3Year': 1.02, 'fundFamily': 'iShares', 'fundInceptionDate': 958953600, 'legalType': 'Exchange Traded Fund', 'threeYearAverageReturn': -0.0183004, 'fiveYearAverageReturn': 0.068465, 'exchange': 'PCX', 'quoteType': 'ETF', 'symbol': 'IWM', 'underlyingSymbol': 'IWM', 'shortName': 'iShares Russell 2000 ETF', 'longName': 'iShares Russell 2000 ETF', 'firstTradeDateEpochUtc': 959347800, 'timeZoneFullName': 'America/New_York', 'timeZoneShortName': 'EST', 'uuid': '600ed58e-8501-353d-a7c7-902732abdc68', 'messageBoardId': 'finmb_8797658', 'gmtOffSetMilliseconds': -18000000, 'trailingPegRatio': None}\n"
     ]
    }
   ],
   "source": [
    "# Especifica el símbolo de la acción que deseas obtener\n",
    "symbol = \"IWM\"  # Ejemplo: Apple Inc.\n",
    "# Utiliza la función 'Ticker' para obtener información en tiempo real\n",
    "stock_ticker = yf.Ticker(symbol)\n",
    "# Obtiene el dato más reciente\n",
    "stock_info = stock_ticker.info\n",
    "# Muestra la información disponible\n",
    "print(stock_info)"
   ]
  },
  {
   "cell_type": "code",
   "execution_count": 3,
   "id": "6f5262f2",
   "metadata": {},
   "outputs": [
    {
     "name": "stdout",
     "output_type": "stream",
     "text": [
      "Precio de oferta al momento para IWM: 191.06\n"
     ]
    }
   ],
   "source": [
    "\n",
    "\n",
    "# Especifica el símbolo de la acción que deseas obtener (IWM para iShares Russell 2000 ETF)\n",
    "symbol = \"IWM\"\n",
    "# Utiliza la función 'Ticker' para obtener información en tiempo real\n",
    "stock_ticker = yf.Ticker(symbol)\n",
    "# Obtiene el dato más reciente, incluyendo el precio de oferta (bid)\n",
    "stock_info = stock_ticker.info\n",
    "bid_price = stock_info['bid']\n",
    "print(f\"Precio de oferta al momento para {symbol}: {bid_price}\")\n"
   ]
  },
  {
   "cell_type": "code",
   "execution_count": 4,
   "id": "50670a45",
   "metadata": {},
   "outputs": [
    {
     "name": "stderr",
     "output_type": "stream",
     "text": [
      "404 Client Error: Not Found for url: https://query2.finance.yahoo.com/v10/finance/quoteSummary/BTC/MXN?modules=financialData%2CquoteType%2CdefaultKeyStatistics%2CassetProfile%2CsummaryDetail&corsDomain=finance.yahoo.com&formatted=false&symbol=BTC%2FMXN&crumb=Q1wwhsvSLON\n"
     ]
    },
    {
     "ename": "YFinanceException",
     "evalue": "Failed to parse json response from Yahoo Finance: {'code': 'Not Found', 'description': 'HTTP 404 Not Found'}",
     "output_type": "error",
     "traceback": [
      "\u001b[1;31m---------------------------------------------------------------------------\u001b[0m",
      "\u001b[1;31mYFinanceException\u001b[0m                         Traceback (most recent call last)",
      "Cell \u001b[1;32mIn[4], line 15\u001b[0m\n\u001b[0;32m     12\u001b[0m stock_ticker \u001b[38;5;241m=\u001b[39m yf\u001b[38;5;241m.\u001b[39mTicker(symbol)\n\u001b[0;32m     14\u001b[0m \u001b[38;5;66;03m# Obtiene el precio de oferta (bid) directamente\u001b[39;00m\n\u001b[1;32m---> 15\u001b[0m bid_price \u001b[38;5;241m=\u001b[39m stock_ticker\u001b[38;5;241m.\u001b[39minfo[\u001b[38;5;124m'\u001b[39m\u001b[38;5;124mbid\u001b[39m\u001b[38;5;124m'\u001b[39m]\n\u001b[0;32m     17\u001b[0m \u001b[38;5;66;03m# Añade el precio de oferta a la lista\u001b[39;00m\n\u001b[0;32m     18\u001b[0m bid_prices\u001b[38;5;241m.\u001b[39mappend(bid_price)\n",
      "File \u001b[1;32m~\\anaconda3\\Lib\\site-packages\\yfinance\\ticker.py:154\u001b[0m, in \u001b[0;36mTicker.info\u001b[1;34m(self)\u001b[0m\n\u001b[0;32m    152\u001b[0m \u001b[38;5;129m@property\u001b[39m\n\u001b[0;32m    153\u001b[0m \u001b[38;5;28;01mdef\u001b[39;00m \u001b[38;5;21minfo\u001b[39m(\u001b[38;5;28mself\u001b[39m) \u001b[38;5;241m-\u001b[39m\u001b[38;5;241m>\u001b[39m \u001b[38;5;28mdict\u001b[39m:\n\u001b[1;32m--> 154\u001b[0m     \u001b[38;5;28;01mreturn\u001b[39;00m \u001b[38;5;28mself\u001b[39m\u001b[38;5;241m.\u001b[39mget_info()\n",
      "File \u001b[1;32m~\\anaconda3\\Lib\\site-packages\\yfinance\\base.py:1784\u001b[0m, in \u001b[0;36mTickerBase.get_info\u001b[1;34m(self, proxy)\u001b[0m\n\u001b[0;32m   1782\u001b[0m \u001b[38;5;28;01mdef\u001b[39;00m \u001b[38;5;21mget_info\u001b[39m(\u001b[38;5;28mself\u001b[39m, proxy\u001b[38;5;241m=\u001b[39m\u001b[38;5;28;01mNone\u001b[39;00m) \u001b[38;5;241m-\u001b[39m\u001b[38;5;241m>\u001b[39m \u001b[38;5;28mdict\u001b[39m:\n\u001b[0;32m   1783\u001b[0m     \u001b[38;5;28mself\u001b[39m\u001b[38;5;241m.\u001b[39m_quote\u001b[38;5;241m.\u001b[39mproxy \u001b[38;5;241m=\u001b[39m proxy \u001b[38;5;129;01mor\u001b[39;00m \u001b[38;5;28mself\u001b[39m\u001b[38;5;241m.\u001b[39mproxy\n\u001b[1;32m-> 1784\u001b[0m     data \u001b[38;5;241m=\u001b[39m \u001b[38;5;28mself\u001b[39m\u001b[38;5;241m.\u001b[39m_quote\u001b[38;5;241m.\u001b[39minfo\n\u001b[0;32m   1785\u001b[0m     \u001b[38;5;28;01mreturn\u001b[39;00m data\n",
      "File \u001b[1;32m~\\anaconda3\\Lib\\site-packages\\yfinance\\scrapers\\quote.py:575\u001b[0m, in \u001b[0;36mQuote.info\u001b[1;34m(self)\u001b[0m\n\u001b[0;32m    573\u001b[0m \u001b[38;5;28;01mif\u001b[39;00m \u001b[38;5;28mself\u001b[39m\u001b[38;5;241m.\u001b[39m_info \u001b[38;5;129;01mis\u001b[39;00m \u001b[38;5;28;01mNone\u001b[39;00m:\n\u001b[0;32m    574\u001b[0m     \u001b[38;5;28mself\u001b[39m\u001b[38;5;241m.\u001b[39m_fetch_info(\u001b[38;5;28mself\u001b[39m\u001b[38;5;241m.\u001b[39mproxy)\n\u001b[1;32m--> 575\u001b[0m     \u001b[38;5;28mself\u001b[39m\u001b[38;5;241m.\u001b[39m_fetch_complementary(\u001b[38;5;28mself\u001b[39m\u001b[38;5;241m.\u001b[39mproxy)\n\u001b[0;32m    577\u001b[0m \u001b[38;5;28;01mreturn\u001b[39;00m \u001b[38;5;28mself\u001b[39m\u001b[38;5;241m.\u001b[39m_info\n",
      "File \u001b[1;32m~\\anaconda3\\Lib\\site-packages\\yfinance\\scrapers\\quote.py:738\u001b[0m, in \u001b[0;36mQuote._fetch_complementary\u001b[1;34m(self, proxy)\u001b[0m\n\u001b[0;32m    736\u001b[0m json_result \u001b[38;5;241m=\u001b[39m json_data\u001b[38;5;241m.\u001b[39mget(\u001b[38;5;124m\"\u001b[39m\u001b[38;5;124mtimeseries\u001b[39m\u001b[38;5;124m\"\u001b[39m) \u001b[38;5;129;01mor\u001b[39;00m json_data\u001b[38;5;241m.\u001b[39mget(\u001b[38;5;124m\"\u001b[39m\u001b[38;5;124mfinance\u001b[39m\u001b[38;5;124m\"\u001b[39m)\n\u001b[0;32m    737\u001b[0m \u001b[38;5;28;01mif\u001b[39;00m json_result[\u001b[38;5;124m\"\u001b[39m\u001b[38;5;124merror\u001b[39m\u001b[38;5;124m\"\u001b[39m] \u001b[38;5;129;01mis\u001b[39;00m \u001b[38;5;129;01mnot\u001b[39;00m \u001b[38;5;28;01mNone\u001b[39;00m:\n\u001b[1;32m--> 738\u001b[0m     \u001b[38;5;28;01mraise\u001b[39;00m YFinanceException(\u001b[38;5;124m\"\u001b[39m\u001b[38;5;124mFailed to parse json response from Yahoo Finance: \u001b[39m\u001b[38;5;124m\"\u001b[39m \u001b[38;5;241m+\u001b[39m \u001b[38;5;28mstr\u001b[39m(json_result[\u001b[38;5;124m\"\u001b[39m\u001b[38;5;124merror\u001b[39m\u001b[38;5;124m\"\u001b[39m]))\n\u001b[0;32m    739\u001b[0m \u001b[38;5;28;01mfor\u001b[39;00m k \u001b[38;5;129;01min\u001b[39;00m keys:\n\u001b[0;32m    740\u001b[0m     keydict \u001b[38;5;241m=\u001b[39m json_result[\u001b[38;5;124m\"\u001b[39m\u001b[38;5;124mresult\u001b[39m\u001b[38;5;124m\"\u001b[39m][\u001b[38;5;241m0\u001b[39m]\n",
      "\u001b[1;31mYFinanceException\u001b[0m: Failed to parse json response from Yahoo Finance: {'code': 'Not Found', 'description': 'HTTP 404 Not Found'}"
     ]
    }
   ],
   "source": [
    "import yfinance as yf\n",
    "\n",
    "# Lista de símbolos de acciones\n",
    "#symbols = [\"BOIL\", \"BABA\", \"JD\", \"PLUG\", \"RIVN\", \"KR\", \"DKNG\", \"IWM\"]\n",
    "symbols=['BTC/MXN', 'USD/MXN', 'ETH/USDT', 'IWM', 'DFNG', 'RIVN', 'BABA', 'JD', 'PLUG', 'KR', 'MATIC/USD', 'ETH/USD']\n",
    "# Lista para almacenar los precios de oferta\n",
    "bid_prices = []\n",
    "\n",
    "# Itera sobre cada símbolo\n",
    "for symbol in symbols:\n",
    "    # Utiliza la función 'Ticker' para obtener información en tiempo real\n",
    "    stock_ticker = yf.Ticker(symbol)\n",
    "    \n",
    "    # Obtiene el precio de oferta (bid) directamente\n",
    "    bid_price = stock_ticker.info['bid']\n",
    "    \n",
    "    # Añade el precio de oferta a la lista\n",
    "    bid_prices.append(bid_price)\n",
    "\n",
    "# Imprime la lista de precios de oferta\n",
    "print(\"Lista de precios de oferta:\")\n",
    "print(bid_prices)\n"
   ]
  },
  {
   "cell_type": "code",
   "execution_count": null,
   "id": "75dec2e5",
   "metadata": {},
   "outputs": [],
   "source": [
    "bid_prices"
   ]
  },
  {
   "cell_type": "code",
   "execution_count": null,
   "id": "a1a9c4dd",
   "metadata": {},
   "outputs": [],
   "source": [
    "tabla = pd.DataFrame(index=())\n",
    "tabla.index.name = 'Acciones'\n",
    "tabla['Ticket']=[\"BOIL\", \"BABA\", \"JD\", \"PLUG\", \"RIVN\", \"KR\", \"DKNG\", \"IWM\"]\n",
    "tabla['Precio de compra de activo']=[170.73, 26.56, 18.84, 76.80, 27.73, 3.96, 44.38, 1, 170.73] \n",
    "tabla['Valor']= bid_prices\n",
    "tabla['Cantidad del Activo']=[1, 1, 1, 1, 1, 1, 1, 5] \n",
    "tabla['Tipo de Activo']=['Cripto', 'Divisa', 'Accion', 'Accion',\" j\", 'Cripto', 'Cripto', 'Cripto'] \n",
    "\n",
    "tabla['Z']=tabla['Precio de compra de activo'] * tabla['Cantidad del Activo']\n",
    "tabla"
   ]
  },
  {
   "cell_type": "code",
   "execution_count": null,
   "id": "dbdd50a2",
   "metadata": {},
   "outputs": [],
   "source": [
    "tabla.to_excel('Port_Bolsa.xlsx')"
   ]
  },
  {
   "cell_type": "code",
   "execution_count": null,
   "id": "dec096fe",
   "metadata": {},
   "outputs": [],
   "source": [
    "df =pd.read_csv('Port_Bolsa.csv')"
   ]
  },
  {
   "cell_type": "code",
   "execution_count": null,
   "id": "6c37a044",
   "metadata": {
    "scrolled": true
   },
   "outputs": [],
   "source": [
    "df"
   ]
  },
  {
   "cell_type": "code",
   "execution_count": null,
   "id": "af0426b3",
   "metadata": {},
   "outputs": [],
   "source": [
    "tabla = pd.DataFrame(index=())\n",
    "tabla.index.name = 'Acciones'\n",
    "tabla['Ticket']=[\"BOIL\", \"BABA\", \"JD\", \"PLUG\", \"RIVN\", \"KR\", \"DKNG\", \"IWM\"]\n",
    "tabla['Precio de compra de activo']=[170.73, 26.56, 18.84, 76.80, 27.73, 3.96, 44.38, 170.73] \n",
    "tabla['Valor']= bid_prices\n",
    "tabla['Cantidad del Activo']=[1, 1, 1, 1, 1, 1, 1, 5] \n",
    "tabla['Tipo de Activo']=['Cripto', 'Divisa', 'Accion', 'Accion',\" j\", 'Cripto', 'Cripto', 'Cripto'] \n",
    "\n",
    "tabla['Z']=tabla['Precio de compra de activo'] * tabla['Cantidad del Activo']\n",
    "tabla"
   ]
  },
  {
   "cell_type": "code",
   "execution_count": null,
   "id": "ec734bc7",
   "metadata": {},
   "outputs": [],
   "source": [
    "tabla['Ticket']"
   ]
  },
  {
   "cell_type": "code",
   "execution_count": null,
   "id": "fc9ef840",
   "metadata": {},
   "outputs": [],
   "source": [
    "data = {\n",
    "    '\n",
    "    'Ticket': ['BOIL', 'BABA', 'JD', 'PLUG', 'RIVN', 'KR', 'DKNG', 'IWM'],\n",
    "    'Precio de compra de activo': [22.81, 76.80, 27.73, 3.96, 17.28, 44.38, 26.56, 170.73],\n",
    "    'Valor': [22.86, 72.89, 22.91, 4.73, 16.12, 46.29, 40.38, 198.67],\n",
    "    'Cantidad del Activo': [3, 1, 2, 5, 2, 1, 1, 1],\n",
    "    'Tipo de Activo': ['Cripto', 'Divisa', 'Accion', 'Accion', 'j', 'Cripto', 'Cripto', 'Cripto'],\n",
    "    'Z': tabla['Precio de compra de activo'] * tabla['Cantidad del Activo']\n",
    "}\n",
    "\n",
    "tabla = pd.DataFrame(data)\n",
    "tabla"
   ]
  },
  {
   "cell_type": "code",
   "execution_count": null,
   "id": "2872dd25",
   "metadata": {},
   "outputs": [],
   "source": []
  },
  {
   "cell_type": "code",
   "execution_count": null,
   "id": "92365ceb",
   "metadata": {},
   "outputs": [],
   "source": []
  }
 ],
 "metadata": {
  "kernelspec": {
   "display_name": "Python 3 (ipykernel)",
   "language": "python",
   "name": "python3"
  },
  "language_info": {
   "codemirror_mode": {
    "name": "ipython",
    "version": 3
   },
   "file_extension": ".py",
   "mimetype": "text/x-python",
   "name": "python",
   "nbconvert_exporter": "python",
   "pygments_lexer": "ipython3",
   "version": "3.11.5"
  }
 },
 "nbformat": 4,
 "nbformat_minor": 5
}
